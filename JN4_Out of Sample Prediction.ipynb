{
 "cells": [
  {
   "cell_type": "markdown",
   "metadata": {},
   "source": [
    "# Jupyter Notebook 4: Out of Sample Prediction"
   ]
  },
  {
   "cell_type": "markdown",
   "metadata": {},
   "source": [
    "Kang Dataset"
   ]
  },
  {
   "cell_type": "code",
   "execution_count": null,
   "metadata": {},
   "outputs": [],
   "source": [
    "import scanpy as sc\n",
    "import pandas as pd\n",
    "import numpy as np\n",
    "from sklearn.model_selection import train_test_split\n",
    "import sys\n",
    "import util_loss as ul\n",
    "#import the package to use\n",
    "import beta_vae_5\n",
    "from dentate_features import *\n",
    "from all_obs_linear_classifier_package import *\n",
    "import os,glob"
   ]
  },
  {
   "cell_type": "code",
   "execution_count": null,
   "metadata": {},
   "outputs": [],
   "source": [
    "data = sc.read(\"./data/kang_seurat_normalized.h5ad\")\n",
    "data_train_full = sc.read(\"./data/kang_seurat_normalized_train.h5ad\")\n",
    "data_validate_full = sc.read(\"./data/kang_seurat_normalized_validate.h5ad\")\n",
    "cells = list(set(data_train_full.obs[\"cell_type\"]))\n",
    "print(cells)"
   ]
  },
  {
   "cell_type": "code",
   "execution_count": null,
   "metadata": {},
   "outputs": [],
   "source": [
    "for cell in cells:\n",
    "\n",
    "    data_train_full_temp = data_train_full[-(data_train_full.obs[\"cell_type\"]==cell)]\n",
    "    data_validate_full_temp = data_validate_full[-(data_validate_full.obs[\"cell_type\"]==cell)]\n",
    "    print(data_train_full_temp.obs[\"cell_type\"].value_counts())\n",
    "\n",
    "    data_train_full_temp = ul.shuffle_adata(data_train_full_temp)\n",
    "    data_validate_full_temp = ul.shuffle_adata(data_validate_full_temp)\n",
    "    \n",
    "    #Declaring parameters\n",
    "    z = 5\n",
    "    al = 100\n",
    "    c = 500\n",
    "\n",
    "    mod_path1 = \"./models_seurat_leave_one/latent\"+str(z)+\"_alpha\"+str(al)+\"_c\"+str(c)+\"_\"+cell\n",
    "    scg_model = beta_vae_5.C_VAEArithKeras(x_dimension= data_train_full.shape[1],z_dimension=z, \n",
    "                                          model_to_use =mod_path1,alpha=al,c_max=c)                  \n",
    "    scg_model.train(data_train_full_temp,validation_data=data_validate_full_temp,\n",
    "                    n_epochs=2,shuffle=False)\n"
   ]
  },
  {
   "cell_type": "code",
   "execution_count": null,
   "metadata": {},
   "outputs": [],
   "source": [
    "'''\n",
    "Manipulating Latent Space dimensions\n",
    "'''\n",
    "\n",
    "#Reloading pre-trained data\n",
    "from simulate_cell import *\n",
    "\n",
    "os.chdir(\"/storage/groups/ml01/workspace/harshita.agarwala/models_seurat_leave_one/\")\n",
    "path = \"latent5_alpha100_c500_CD4 Naive T\"\n",
    "cell_to_drop = 'CD4 Naive T'\n",
    "scg_model = beta_vae_5.C_VAEArithKeras(x_dimension= data.shape[1],z_dimension=5,model_to_use=path,\n",
    "                                       alpha=100,c_max=500)\n",
    "scg_model.restore_model()\n",
    "\n",
    "data_temp = data[-(data.obs[\"cell_type\"]==cell_to_drop)]\n",
    "simulate_multiple_cell(path=path,data=data,model=scg_model,z_dim=5,feature=\"cell_type\")\n"
   ]
  },
  {
   "cell_type": "code",
   "execution_count": null,
   "metadata": {},
   "outputs": [],
   "source": [
    "sc.tl.rank_genes_groups(data, groupby=\"cell_type\", method='t-test')\n",
    "x_dim = data.shape[1]"
   ]
  },
  {
   "cell_type": "code",
   "execution_count": null,
   "metadata": {},
   "outputs": [],
   "source": [
    "'''\n",
    "Creating Regression plots and UMAPS\n",
    "'''\n",
    "\n",
    "from seurat_umaps_reg_plots import *\n",
    "\n",
    "os.chdir(\"/storage/groups/ml01/workspace/harshita.agarwala/models_seurat_leave_one/\")\n",
    "path = \"latent5_alpha100_c500_CD4 Naive T\"\n",
    "cell_to_drop = 'CD4 Naive T'\n",
    "cells = list(set(data.obs[\"cell_type\"]))\n",
    "\n",
    "scg_model = beta_vae_5.C_VAEArithKeras(x_dimension= data.shape[1],z_dimension=5,model_to_use=path,\n",
    "                                       alpha=100,c_max=500)\n",
    "scg_model.restore_model()\n",
    "\n",
    "df_list = generate_simulated_reg_plots(path=path+\"/gene_heatmaps/\",\n",
    "                            actual_data=data,clust_typ = cell_to_drop,cells=cells)\n",
    "df = pd.DataFrame(df_list,columns=[\"name\",\"r_sq_all\",\"r_sq_100\"])\n",
    "os.chdir(\"/storage/groups/ml01/workspace/harshita.agarwala/models_seurat_leave_one/\")\n",
    "df.to_csv(path+\"/gene_heatmaps/reg_mean.csv\",index=False)"
   ]
  },
  {
   "cell_type": "markdown",
   "metadata": {},
   "source": [
    "Dentate Gyrus"
   ]
  },
  {
   "cell_type": "code",
   "execution_count": null,
   "metadata": {},
   "outputs": [],
   "source": [
    "data = sc.read(\"./data/dentate_gyrus_normalized.h5ad\")\n",
    "#data_train_full = sc.read(\"./data/dentate_gyrus_normalized_train.h5ad\")\n",
    "#data_validate_full = sc.read(\"./data/dentate_gyrus_normalized_validate.h5ad\")\n",
    "cells = list(set(data_train_full.obs[\"clusters\"]))\n",
    "print(cells)"
   ]
  },
  {
   "cell_type": "code",
   "execution_count": null,
   "metadata": {},
   "outputs": [],
   "source": [
    "for cell in cells:\n",
    "\n",
    "    data_train_full_temp = data_train_full[-(data_train_full.obs[\"clusters\"]==cell)]\n",
    "    data_validate_full_temp = data_validate_full[-(data_validate_full.obs[\"clusters\"]==cell)]\n",
    "    print(data_train_full_temp.obs[\"clusters\"].value_counts())\n",
    "\n",
    "    data_train_full_temp = ul.shuffle_adata(data_train_full_temp)\n",
    "    data_validate_full_temp = ul.shuffle_adata(data_validate_full_temp)\n",
    "    \n",
    "    #Declaring parameters\n",
    "    z = 5\n",
    "    al = 100\n",
    "    c = 500\n",
    "\n",
    "    mod_path1 = \"./models_dentate_leave_one/latent\"+str(z)+\"_alpha\"+str(al)+\"_c\"+str(c)+\"_\"+cell\n",
    "    scg_model = beta_vae_5.C_VAEArithKeras(x_dimension= data_train_full.shape[1],z_dimension=z, \n",
    "                                          model_to_use =mod_path1,alpha=al,c_max=c)                  \n",
    "    scg_model.train(data_train_full_temp,validation_data=data_validate_full_temp,\n",
    "                    n_epochs=2,shuffle=False)\n"
   ]
  },
  {
   "cell_type": "code",
   "execution_count": null,
   "metadata": {},
   "outputs": [],
   "source": [
    "'''\n",
    "Manipulating Latent Space dimensions\n",
    "'''\n",
    "\n",
    "#Reloading pre-trained data\n",
    "from simulate_cell import *\n",
    "\n",
    "os.chdir(\"/home/icb/harshita.agarwala/models_dentate_leave_one/\")\n",
    "path = \"latent5_alpha50_c30_Astrocyte\"\n",
    "cell_to_drop = 'Astrocyte'\n",
    "scg_model = beta_vae_5.C_VAEArithKeras(x_dimension= data.shape[1],z_dimension=5,model_to_use=path,\n",
    "                                       alpha=50,c_max=30)\n",
    "scg_model.restore_model()\n",
    "\n",
    "data_temp = data[-(data.obs[\"clusters\"]==cell_to_drop)]\n",
    "simulate_multiple_cell(path=path,data=data,model=scg_model,z_dim=5,feature=\"clusters\")\n"
   ]
  },
  {
   "cell_type": "code",
   "execution_count": null,
   "metadata": {},
   "outputs": [],
   "source": [
    "sc.tl.rank_genes_groups(data, groupby=\"clusters\", method='t-test')\n",
    "x_dim = data.shape[1]"
   ]
  },
  {
   "cell_type": "code",
   "execution_count": null,
   "metadata": {},
   "outputs": [],
   "source": [
    "'''\n",
    "Creating Regression plots and UMAPS\n",
    "'''\n",
    "\n",
    "from seurat_umaps_reg_plots import *\n",
    "\n",
    "os.chdir(\"/home/icb/harshita.agarwala/models_dentate_leave_one/\")\n",
    "path = \"latent5_alpha50_c30_Astrocyte\"\n",
    "cell_to_drop = 'Astrocyte'\n",
    "cells = list(set(data.obs[\"clusters\"]))\n",
    "\n",
    "scg_model = beta_vae_5.C_VAEArithKeras(x_dimension= data.shape[1],z_dimension=5,model_to_use=path,\n",
    "                                       alpha=50,c_max=30)\n",
    "scg_model.restore_model()\n",
    "\n",
    "df_list = generate_simulated_reg_plots(path=path+\"/gene_heatmaps/\",\n",
    "                            actual_data=data,clust_typ = cell_to_drop,cells=cells)\n",
    "df = pd.DataFrame(df_list,columns=[\"name\",\"r_sq_all\",\"r_sq_100\"])\n",
    "os.chdir(\"/home/icb/harshita.agarwala/models_dentate_leave_one/\")\n",
    "df.to_csv(path+\"/gene_heatmaps/reg_mean.csv\",index=False)"
   ]
  }
 ],
 "metadata": {
  "kernelspec": {
   "display_name": "Python 3",
   "language": "python",
   "name": "python3"
  },
  "language_info": {
   "codemirror_mode": {
    "name": "ipython",
    "version": 3
   },
   "file_extension": ".py",
   "mimetype": "text/x-python",
   "name": "python",
   "nbconvert_exporter": "python",
   "pygments_lexer": "ipython3",
   "version": "3.7.6"
  }
 },
 "nbformat": 4,
 "nbformat_minor": 4
}
