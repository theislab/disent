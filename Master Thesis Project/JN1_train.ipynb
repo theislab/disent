{
 "cells": [
  {
   "cell_type": "markdown",
   "metadata": {},
   "source": [
    "# Jupyter Notebook 1: Load Data and Train"
   ]
  },
  {
   "cell_type": "code",
   "execution_count": null,
   "metadata": {},
   "outputs": [],
   "source": [
    "import scanpy as sc\n",
    "import pandas as pd\n",
    "import numpy as np\n",
    "from sklearn.model_selection import train_test_split\n",
    "import sys\n",
    "import util_loss as ul\n",
    "import scvelo as scv\n",
    "#import the package to use\n",
    "import beta_vae_5"
   ]
  },
  {
   "cell_type": "markdown",
   "metadata": {},
   "source": [
    "Kang Dataset"
   ]
  },
  {
   "cell_type": "code",
   "execution_count": null,
   "metadata": {},
   "outputs": [],
   "source": [
    "'''\n",
    "data = sc.read(\"./data/kang_seurat.h5ad\")\n",
    "sc.pp.normalize_per_cell(data)\n",
    "sc.pp.log1p(data)\n",
    "'''\n",
    "data = sc.read(\"./data/kang_seurat_normalized.h5ad\")\n",
    "data_train,data_validate = train_test_split(data, test_size=0.2)\n",
    "data_train.write(\"./data/kang_seurat_normalized_train.h5ad\")\n",
    "data_validate.write(\"./data/kang_seurat_normalized_validate.h5ad\")\n",
    "sc.pp.neighbors(data)\n",
    "sc.tl.umap(data)\n",
    "sc.pl.umap(data, color=[\"cell_type\"],\n",
    "           legend_fontsize=10,\n",
    "           save=\"_Seurat_cell.png\",\n",
    "           show=True,\n",
    "           frameon=True,\n",
    "            s = 15)"
   ]
  },
  {
   "cell_type": "code",
   "execution_count": null,
   "metadata": {},
   "outputs": [],
   "source": [
    "data_train = ul.shuffle_adata(data_train)\n",
    "data_validate = ul.shuffle_adata(data_validate)"
   ]
  },
  {
   "cell_type": "code",
   "execution_count": null,
   "metadata": {},
   "outputs": [],
   "source": [
    "scg_model = beta_vae_5.C_VAEArithKeras(x_dimension= data_train.shape[1],z_dimension=5,alpha=5,c_max=20)\n",
    "scg_model.train(data_train, validation_data=data_validate,n_epochs=5,shuffle=False)\n"
   ]
  },
  {
   "cell_type": "markdown",
   "metadata": {},
   "source": [
    "Dentate Gyrus Dataset"
   ]
  },
  {
   "cell_type": "code",
   "execution_count": null,
   "metadata": {},
   "outputs": [],
   "source": [
    "'''\n",
    "data = scv.datasets.dentategyrus()\n",
    "scv.pp.filter_genes(data, min_shared_counts=10)\n",
    "scv.pp.normalize_per_cell(data)\n",
    "scv.pp.filter_genes_dispersion(data, n_top_genes=3000)\n",
    "scv.pp.log1p(data)\n",
    "'''\n",
    "data = sc.read(\"./data/dentate_gyrus_normalized.h5ad\")\n",
    "\n",
    "data_train,data_validate = train_test_split(data, test_size=0.2)\n",
    "data_train.write(\"./data/dentate_gyrus_normalized_train.h5ad\")\n",
    "data_validate.write(\"./data/dentate_gyrus_normalized_validate.h5ad\")\n",
    "sc.pp.neighbors(data)\n",
    "sc.tl.umap(data)\n",
    "sc.pl.umap(data, color=[\"clusters\"],\n",
    "           legend_fontsize=10,\n",
    "           save=\"_Dentate_cluster.png\",\n",
    "           show=True,\n",
    "           frameon=True,\n",
    "            s = 15)"
   ]
  },
  {
   "cell_type": "code",
   "execution_count": null,
   "metadata": {},
   "outputs": [],
   "source": [
    "data_train = ul.shuffle_adata(data_train)\n",
    "data_validate = ul.shuffle_adata(data_validate)"
   ]
  },
  {
   "cell_type": "code",
   "execution_count": null,
   "metadata": {},
   "outputs": [],
   "source": [
    "scg_model = beta_vae_5.C_VAEArithKeras(x_dimension= data_train.shape[1],z_dimension=5,alpha=5,c_max=20)\n",
    "scg_model.train(data_train, validation_data=data_validate,n_epochs=5,shuffle=False)"
   ]
  }
 ],
 "metadata": {
  "kernelspec": {
   "display_name": "Python 3",
   "language": "python",
   "name": "python3"
  },
  "language_info": {
   "codemirror_mode": {
    "name": "ipython",
    "version": 3
   },
   "file_extension": ".py",
   "mimetype": "text/x-python",
   "name": "python",
   "nbconvert_exporter": "python",
   "pygments_lexer": "ipython3",
   "version": "3.7.6"
  }
 },
 "nbformat": 4,
 "nbformat_minor": 4
}