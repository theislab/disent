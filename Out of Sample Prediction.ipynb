{
 "cells": [
  {
   "cell_type": "markdown",
   "metadata": {},
   "source": [
    "# Jupyter Notebook 4: Out of Sample Prediction"
   ]
  },
  {
   "cell_type": "markdown",
   "metadata": {},
   "source": [
    "Kang Dataset"
   ]
  },
  {
   "cell_type": "code",
   "execution_count": null,
   "metadata": {},
   "outputs": [],
   "source": [
    "import scanpy as sc\n",
    "import pandas as pd\n",
    "import numpy as np\n",
    "from sklearn.model_selection import train_test_split\n",
    "import sys\n",
    "import util_loss as ul\n",
    "#import the package to use\n",
    "import beta_vae_5\n",
    "from dentate_features import *\n",
    "from all_obs_linear_classifier_package import *\n",
    "import os,glob"
   ]
  },
  {
   "cell_type": "code",
   "execution_count": null,
   "metadata": {},
   "outputs": [],
   "source": [
    "data = sc.read(\"./data/kang_seurat_normalized.h5ad\")\n",
    "data_train_full = sc.read(\"./data/kang_seurat_normalized_train.h5ad\")\n",
    "data_validate_full = sc.read(\"./data/kang_seurat_normalized_validate.h5ad\")\n",
    "cells = list(set(data_train_full.obs[\"cell_type\"]))\n",
    "print(cells)"
   ]
  },
  {
   "cell_type": "code",
   "execution_count": null,
   "metadata": {},
   "outputs": [],
   "source": [
    "for cell in cells:\n",
    "\n",
    "    data_train_full_temp = data_train_full[-(data_train_full.obs[\"cell_type\"]==cell)]\n",
    "    data_validate_full_temp = data_validate_full[-(data_validate_full.obs[\"cell_type\"]==cell)]\n",
    "    print(data_train_full_temp.obs[\"cell_type\"].value_counts())\n",
    "\n",
    "    data_train_full_temp = ul.shuffle_adata(data_train_full_temp)\n",
    "    data_validate_full_temp = ul.shuffle_adata(data_validate_full_temp)\n",
    "    \n",
    "    #Declaring parameters\n",
    "    z = 5\n",
    "    al = 100\n",
    "    c = 500\n",
    "\n",
    "    mod_path1 = \"./models_seurat_leave_one/latent\"+str(z)+\"_alpha\"+str(al)+\"_c\"+str(c)+\"_\"+cell\n",
    "    scg_model = beta_vae_5.C_VAEArithKeras(x_dimension= data_train_full.shape[1],z_dimension=z, \n",
    "                                          model_to_use =mod_path1,alpha=al,c_max=c)                  \n",
    "    scg_model.train(data_train_full_temp,validation_data=data_validate_full_temp,\n",
    "                    n_epochs=2,shuffle=False)\n"
   ]
  },
  {
   "cell_type": "code",
   "execution_count": null,
   "metadata": {},
   "outputs": [],
   "source": [
    "'''\n",
    "Manipulating Latent Space dimensions\n",
    "'''\n",
    "\n",
    "#Reloading pre-trained data\n",
    "from simulate_cell import *\n",
    "\n",
    "os.chdir(\"/storage/groups/ml01/workspace/harshita.agarwala/models_seurat_leave_one/\")\n",
    "path = \"latent5_alpha100_c500_CD4 Naive T\"\n",
    "cell_to_drop = 'CD4 Naive T'\n",
    "scg_model = beta_vae_5.C_VAEArithKeras(x_dimension= data.shape[1],z_dimension=5,model_to_use=path,\n",
    "                                       alpha=100,c_max=500)\n",
    "scg_model.restore_model()\n",
    "\n",
    "data_temp = data[-(data.obs[\"cell_type\"]==cell_to_drop)]\n",
    "simulate_multiple_cell(path=path,data=data,model=scg_model,z_dim=5,feature=\"cell_type\")\n"
   ]
  },
  {
   "cell_type": "code",
   "execution_count": null,
   "metadata": {},
   "outputs": [],
   "source": [
    "sc.tl.rank_genes_groups(data, groupby=\"cell_type\", method='t-test')\n",
    "x_dim = data.shape[1]"
   ]
  },
  {
   "cell_type": "code",
   "execution_count": null,
   "metadata": {},
   "outputs": [],
   "source": [
    "'''\n",
    "Creating Regression plots and UMAPS\n",
    "'''\n",
    "\n",
    "from seurat_umaps_reg_plots import *\n",
    "\n",
    "os.chdir(\"/storage/groups/ml01/workspace/harshita.agarwala/models_seurat_leave_one/\")\n",
    "path = \"latent5_alpha100_c500_CD4 Naive T\"\n",
    "cell_to_drop = 'CD4 Naive T'\n",
    "cells = list(set(data.obs[\"cell_type\"]))\n",
    "\n",
    "scg_model = beta_vae_5.C_VAEArithKeras(x_dimension= data.shape[1],z_dimension=5,model_to_use=path,\n",
    "                                       alpha=100,c_max=500)\n",
    "scg_model.restore_model()\n",
    "\n",
    "df_list = generate_simulated_reg_plots(path=path+\"/gene_heatmaps/\",\n",
    "                            actual_data=data,clust_typ = cell_to_drop,cells=cells)\n",
    "df = pd.DataFrame(df_list,columns=[\"name\",\"r_sq_all\",\"r_sq_100\"])\n",
    "os.chdir(\"/storage/groups/ml01/workspace/harshita.agarwala/models_seurat_leave_one/\")\n",
    "df.to_csv(path+\"/gene_heatmaps/reg_mean.csv\",index=False)"
   ]
  },
  {
   "cell_type": "markdown",
   "metadata": {},
   "source": [
    "Dentate Gyrus"
   ]
  },
  {
   "cell_type": "code",
   "execution_count": null,
   "metadata": {},
   "outputs": [],
   "source": [
    "data = sc.read(\"./data/dentate_gyrus_normalized.h5ad\")\n",
    "#data_train_full = sc.read(\"./data/dentate_gyrus_normalized_train.h5ad\")\n",
    "#data_validate_full = sc.read(\"./data/dentate_gyrus_normalized_validate.h5ad\")\n",
    "cells = list(set(data_train_full.obs[\"clusters\"]))\n",
    "print(cells)"
   ]
  },
  {
   "cell_type": "code",
   "execution_count": null,
   "metadata": {},
   "outputs": [],
   "source": [
    "for cell in cells:\n",
    "\n",
    "    data_train_full_temp = data_train_full[-(data_train_full.obs[\"clusters\"]==cell)]\n",
    "    data_validate_full_temp = data_validate_full[-(data_validate_full.obs[\"clusters\"]==cell)]\n",
    "    print(data_train_full_temp.obs[\"clusters\"].value_counts())\n",
    "\n",
    "    data_train_full_temp = ul.shuffle_adata(data_train_full_temp)\n",
    "    data_validate_full_temp = ul.shuffle_adata(data_validate_full_temp)\n",
    "    \n",
    "    #Declaring parameters\n",
    "    z = 5\n",
    "    al = 100\n",
    "    c = 500\n",
    "\n",
    "    mod_path1 = \"./models_dentate_leave_one/latent\"+str(z)+\"_alpha\"+str(al)+\"_c\"+str(c)+\"_\"+cell\n",
    "    scg_model = beta_vae_5.C_VAEArithKeras(x_dimension= data_train_full.shape[1],z_dimension=z, \n",
    "                                          model_to_use =mod_path1,alpha=al,c_max=c)                  \n",
    "    scg_model.train(data_train_full_temp,validation_data=data_validate_full_temp,\n",
    "                    n_epochs=2,shuffle=False)\n"
   ]
  },
  {
   "cell_type": "code",
   "execution_count": null,
   "metadata": {},
   "outputs": [],
   "source": [
    "'''\n",
    "Manipulating Latent Space dimensions\n",
    "'''\n",
    "\n",
    "#Reloading pre-trained data\n",
    "from simulate_cell import *\n",
    "\n",
    "os.chdir(\"/home/icb/harshita.agarwala/models_dentate_leave_one/\")\n",
    "path = \"latent5_alpha50_c30_Astrocyte\"\n",
    "cell_to_drop = 'Astrocyte'\n",
    "scg_model = beta_vae_5.C_VAEArithKeras(x_dimension= data.shape[1],z_dimension=5,model_to_use=path,\n",
    "                                       alpha=50,c_max=30)\n",
    "scg_model.restore_model()\n",
    "\n",
    "data_temp = data[-(data.obs[\"clusters\"]==cell_to_drop)]\n",
    "simulate_multiple_cell(path=path,data=data,model=scg_model,z_dim=5,feature=\"clusters\")\n"
   ]
  },
  {
   "cell_type": "code",
   "execution_count": null,
   "metadata": {},
   "outputs": [],
   "source": [
    "sc.tl.rank_genes_groups(data, groupby=\"clusters\", method='t-test')\n",
    "x_dim = data.shape[1]"
   ]
  },
  {
   "cell_type": "code",
   "execution_count": 9,
   "metadata": {},
   "outputs": [
    {
     "ename": "KeyError",
     "evalue": "'clusters'",
     "output_type": "error",
     "traceback": [
      "\u001b[0;31m---------------------------------------------------------------------------\u001b[0m",
      "\u001b[0;31mKeyError\u001b[0m                                  Traceback (most recent call last)",
      "\u001b[0;32m~/miniconda3/envs/tf_gpu/lib/python3.7/site-packages/pandas/core/indexes/base.py\u001b[0m in \u001b[0;36mget_loc\u001b[0;34m(self, key, method, tolerance)\u001b[0m\n\u001b[1;32m   2645\u001b[0m             \u001b[0;32mtry\u001b[0m\u001b[0;34m:\u001b[0m\u001b[0;34m\u001b[0m\u001b[0;34m\u001b[0m\u001b[0m\n\u001b[0;32m-> 2646\u001b[0;31m                 \u001b[0;32mreturn\u001b[0m \u001b[0mself\u001b[0m\u001b[0;34m.\u001b[0m\u001b[0m_engine\u001b[0m\u001b[0;34m.\u001b[0m\u001b[0mget_loc\u001b[0m\u001b[0;34m(\u001b[0m\u001b[0mkey\u001b[0m\u001b[0;34m)\u001b[0m\u001b[0;34m\u001b[0m\u001b[0;34m\u001b[0m\u001b[0m\n\u001b[0m\u001b[1;32m   2647\u001b[0m             \u001b[0;32mexcept\u001b[0m \u001b[0mKeyError\u001b[0m\u001b[0;34m:\u001b[0m\u001b[0;34m\u001b[0m\u001b[0;34m\u001b[0m\u001b[0m\n",
      "\u001b[0;32mpandas/_libs/index.pyx\u001b[0m in \u001b[0;36mpandas._libs.index.IndexEngine.get_loc\u001b[0;34m()\u001b[0m\n",
      "\u001b[0;32mpandas/_libs/index.pyx\u001b[0m in \u001b[0;36mpandas._libs.index.IndexEngine.get_loc\u001b[0;34m()\u001b[0m\n",
      "\u001b[0;32mpandas/_libs/hashtable_class_helper.pxi\u001b[0m in \u001b[0;36mpandas._libs.hashtable.PyObjectHashTable.get_item\u001b[0;34m()\u001b[0m\n",
      "\u001b[0;32mpandas/_libs/hashtable_class_helper.pxi\u001b[0m in \u001b[0;36mpandas._libs.hashtable.PyObjectHashTable.get_item\u001b[0;34m()\u001b[0m\n",
      "\u001b[0;31mKeyError\u001b[0m: 'clusters'",
      "\nDuring handling of the above exception, another exception occurred:\n",
      "\u001b[0;31mKeyError\u001b[0m                                  Traceback (most recent call last)",
      "\u001b[0;32m<ipython-input-9-40f29ff4df25>\u001b[0m in \u001b[0;36m<module>\u001b[0;34m\u001b[0m\n\u001b[1;32m      8\u001b[0m \u001b[0mpath\u001b[0m \u001b[0;34m=\u001b[0m \u001b[0;34m\"latent5_alpha50_c30_Astrocyte\"\u001b[0m\u001b[0;34m\u001b[0m\u001b[0;34m\u001b[0m\u001b[0m\n\u001b[1;32m      9\u001b[0m \u001b[0mcell_to_drop\u001b[0m \u001b[0;34m=\u001b[0m \u001b[0;34m'Astrocyte'\u001b[0m\u001b[0;34m\u001b[0m\u001b[0;34m\u001b[0m\u001b[0m\n\u001b[0;32m---> 10\u001b[0;31m \u001b[0mcells\u001b[0m \u001b[0;34m=\u001b[0m \u001b[0mlist\u001b[0m\u001b[0;34m(\u001b[0m\u001b[0mset\u001b[0m\u001b[0;34m(\u001b[0m\u001b[0mdata\u001b[0m\u001b[0;34m.\u001b[0m\u001b[0mobs\u001b[0m\u001b[0;34m[\u001b[0m\u001b[0;34m\"clusters\"\u001b[0m\u001b[0;34m]\u001b[0m\u001b[0;34m)\u001b[0m\u001b[0;34m)\u001b[0m\u001b[0;34m\u001b[0m\u001b[0;34m\u001b[0m\u001b[0m\n\u001b[0m\u001b[1;32m     11\u001b[0m \u001b[0;34m\u001b[0m\u001b[0m\n\u001b[1;32m     12\u001b[0m scg_model = beta_vae_5.C_VAEArithKeras(x_dimension= data.shape[1],z_dimension=5,model_to_use=path,\n",
      "\u001b[0;32m~/miniconda3/envs/tf_gpu/lib/python3.7/site-packages/pandas/core/frame.py\u001b[0m in \u001b[0;36m__getitem__\u001b[0;34m(self, key)\u001b[0m\n\u001b[1;32m   2798\u001b[0m             \u001b[0;32mif\u001b[0m \u001b[0mself\u001b[0m\u001b[0;34m.\u001b[0m\u001b[0mcolumns\u001b[0m\u001b[0;34m.\u001b[0m\u001b[0mnlevels\u001b[0m \u001b[0;34m>\u001b[0m \u001b[0;36m1\u001b[0m\u001b[0;34m:\u001b[0m\u001b[0;34m\u001b[0m\u001b[0;34m\u001b[0m\u001b[0m\n\u001b[1;32m   2799\u001b[0m                 \u001b[0;32mreturn\u001b[0m \u001b[0mself\u001b[0m\u001b[0;34m.\u001b[0m\u001b[0m_getitem_multilevel\u001b[0m\u001b[0;34m(\u001b[0m\u001b[0mkey\u001b[0m\u001b[0;34m)\u001b[0m\u001b[0;34m\u001b[0m\u001b[0;34m\u001b[0m\u001b[0m\n\u001b[0;32m-> 2800\u001b[0;31m             \u001b[0mindexer\u001b[0m \u001b[0;34m=\u001b[0m \u001b[0mself\u001b[0m\u001b[0;34m.\u001b[0m\u001b[0mcolumns\u001b[0m\u001b[0;34m.\u001b[0m\u001b[0mget_loc\u001b[0m\u001b[0;34m(\u001b[0m\u001b[0mkey\u001b[0m\u001b[0;34m)\u001b[0m\u001b[0;34m\u001b[0m\u001b[0;34m\u001b[0m\u001b[0m\n\u001b[0m\u001b[1;32m   2801\u001b[0m             \u001b[0;32mif\u001b[0m \u001b[0mis_integer\u001b[0m\u001b[0;34m(\u001b[0m\u001b[0mindexer\u001b[0m\u001b[0;34m)\u001b[0m\u001b[0;34m:\u001b[0m\u001b[0;34m\u001b[0m\u001b[0;34m\u001b[0m\u001b[0m\n\u001b[1;32m   2802\u001b[0m                 \u001b[0mindexer\u001b[0m \u001b[0;34m=\u001b[0m \u001b[0;34m[\u001b[0m\u001b[0mindexer\u001b[0m\u001b[0;34m]\u001b[0m\u001b[0;34m\u001b[0m\u001b[0;34m\u001b[0m\u001b[0m\n",
      "\u001b[0;32m~/miniconda3/envs/tf_gpu/lib/python3.7/site-packages/pandas/core/indexes/base.py\u001b[0m in \u001b[0;36mget_loc\u001b[0;34m(self, key, method, tolerance)\u001b[0m\n\u001b[1;32m   2646\u001b[0m                 \u001b[0;32mreturn\u001b[0m \u001b[0mself\u001b[0m\u001b[0;34m.\u001b[0m\u001b[0m_engine\u001b[0m\u001b[0;34m.\u001b[0m\u001b[0mget_loc\u001b[0m\u001b[0;34m(\u001b[0m\u001b[0mkey\u001b[0m\u001b[0;34m)\u001b[0m\u001b[0;34m\u001b[0m\u001b[0;34m\u001b[0m\u001b[0m\n\u001b[1;32m   2647\u001b[0m             \u001b[0;32mexcept\u001b[0m \u001b[0mKeyError\u001b[0m\u001b[0;34m:\u001b[0m\u001b[0;34m\u001b[0m\u001b[0;34m\u001b[0m\u001b[0m\n\u001b[0;32m-> 2648\u001b[0;31m                 \u001b[0;32mreturn\u001b[0m \u001b[0mself\u001b[0m\u001b[0;34m.\u001b[0m\u001b[0m_engine\u001b[0m\u001b[0;34m.\u001b[0m\u001b[0mget_loc\u001b[0m\u001b[0;34m(\u001b[0m\u001b[0mself\u001b[0m\u001b[0;34m.\u001b[0m\u001b[0m_maybe_cast_indexer\u001b[0m\u001b[0;34m(\u001b[0m\u001b[0mkey\u001b[0m\u001b[0;34m)\u001b[0m\u001b[0;34m)\u001b[0m\u001b[0;34m\u001b[0m\u001b[0;34m\u001b[0m\u001b[0m\n\u001b[0m\u001b[1;32m   2649\u001b[0m         \u001b[0mindexer\u001b[0m \u001b[0;34m=\u001b[0m \u001b[0mself\u001b[0m\u001b[0;34m.\u001b[0m\u001b[0mget_indexer\u001b[0m\u001b[0;34m(\u001b[0m\u001b[0;34m[\u001b[0m\u001b[0mkey\u001b[0m\u001b[0;34m]\u001b[0m\u001b[0;34m,\u001b[0m \u001b[0mmethod\u001b[0m\u001b[0;34m=\u001b[0m\u001b[0mmethod\u001b[0m\u001b[0;34m,\u001b[0m \u001b[0mtolerance\u001b[0m\u001b[0;34m=\u001b[0m\u001b[0mtolerance\u001b[0m\u001b[0;34m)\u001b[0m\u001b[0;34m\u001b[0m\u001b[0;34m\u001b[0m\u001b[0m\n\u001b[1;32m   2650\u001b[0m         \u001b[0;32mif\u001b[0m \u001b[0mindexer\u001b[0m\u001b[0;34m.\u001b[0m\u001b[0mndim\u001b[0m \u001b[0;34m>\u001b[0m \u001b[0;36m1\u001b[0m \u001b[0;32mor\u001b[0m \u001b[0mindexer\u001b[0m\u001b[0;34m.\u001b[0m\u001b[0msize\u001b[0m \u001b[0;34m>\u001b[0m \u001b[0;36m1\u001b[0m\u001b[0;34m:\u001b[0m\u001b[0;34m\u001b[0m\u001b[0;34m\u001b[0m\u001b[0m\n",
      "\u001b[0;32mpandas/_libs/index.pyx\u001b[0m in \u001b[0;36mpandas._libs.index.IndexEngine.get_loc\u001b[0;34m()\u001b[0m\n",
      "\u001b[0;32mpandas/_libs/index.pyx\u001b[0m in \u001b[0;36mpandas._libs.index.IndexEngine.get_loc\u001b[0;34m()\u001b[0m\n",
      "\u001b[0;32mpandas/_libs/hashtable_class_helper.pxi\u001b[0m in \u001b[0;36mpandas._libs.hashtable.PyObjectHashTable.get_item\u001b[0;34m()\u001b[0m\n",
      "\u001b[0;32mpandas/_libs/hashtable_class_helper.pxi\u001b[0m in \u001b[0;36mpandas._libs.hashtable.PyObjectHashTable.get_item\u001b[0;34m()\u001b[0m\n",
      "\u001b[0;31mKeyError\u001b[0m: 'clusters'"
     ]
    }
   ],
   "source": [
    "'''\n",
    "Creating Regression plots and UMAPS\n",
    "'''\n",
    "\n",
    "from seurat_umaps_reg_plots import *\n",
    "\n",
    "os.chdir(\"/home/icb/harshita.agarwala/models_dentate_leave_one/\")\n",
    "path = \"latent5_alpha50_c30_Astrocyte\"\n",
    "cell_to_drop = 'Astrocyte'\n",
    "cells = list(set(data.obs[\"clusters\"]))\n",
    "\n",
    "scg_model = beta_vae_5.C_VAEArithKeras(x_dimension= data.shape[1],z_dimension=5,model_to_use=path,\n",
    "                                       alpha=50,c_max=30)\n",
    "scg_model.restore_model()\n",
    "\n",
    "df_list = generate_simulated_reg_plots(path=path+\"/gene_heatmaps/\",\n",
    "                            actual_data=data,clust_typ = cell_to_drop,cells=cells)\n",
    "df = pd.DataFrame(df_list,columns=[\"name\",\"r_sq_all\",\"r_sq_100\"])\n",
    "os.chdir(\"/home/icb/harshita.agarwala/models_dentate_leave_one/\")\n",
    "df.to_csv(path+\"/gene_heatmaps/reg_mean.csv\",index=False)"
   ]
  }
 ],
 "metadata": {
  "kernelspec": {
   "display_name": "Python 3",
   "language": "python",
   "name": "python3"
  },
  "language_info": {
   "codemirror_mode": {
    "name": "ipython",
    "version": 3
   },
   "file_extension": ".py",
   "mimetype": "text/x-python",
   "name": "python",
   "nbconvert_exporter": "python",
   "pygments_lexer": "ipython3",
   "version": "3.7.6"
  }
 },
 "nbformat": 4,
 "nbformat_minor": 4
}
